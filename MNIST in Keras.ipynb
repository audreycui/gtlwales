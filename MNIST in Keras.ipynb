{
  "cells": [
    {
      "cell_type": "markdown",
      "metadata": {
        "id": "view-in-github",
        "colab_type": "text"
      },
      "source": [
        "<a href=\"https://colab.research.google.com/github/audreycui/gtlwales/blob/main/MNIST%20in%20Keras.ipynb\" target=\"_parent\"><img src=\"https://colab.research.google.com/assets/colab-badge.svg\" alt=\"Open In Colab\"/></a>"
      ]
    },
    {
      "cell_type": "code",
      "execution_count": 1,
      "metadata": {
        "collapsed": true,
        "id": "_YY78rWWTWgR"
      },
      "outputs": [],
      "source": [
        "%matplotlib inline"
      ]
    },
    {
      "cell_type": "markdown",
      "metadata": {
        "id": "6SgqEM_2TWgU"
      },
      "source": [
        "# Introduction to Deep Learning with Keras and TensorFlow\n",
        "\n",
        "**Daniel Moser (UT Southwestern Medical Center)**\n",
        "\n",
        "**Resources: [Xavier Snelgrove](https://github.com/wxs/keras-mnist-tutorial), [Yash Katariya](https://github.com/yashk2810/MNIST-Keras)**"
      ]
    },
    {
      "cell_type": "markdown",
      "metadata": {
        "id": "80Ss6FsCTWgV"
      },
      "source": [
        "To help you understand the fundamentals of deep learning, this demo will walk through the basic steps of building two toy models for classifying handwritten numbers with accuracies surpassing 95%. The first model will be a basic fully-connected neural network, and the second model will be a deeper network that introduces the concepts of convolution and pooling."
      ]
    },
    {
      "cell_type": "markdown",
      "metadata": {
        "id": "02hLMrF3TWgW"
      },
      "source": [
        "## The Task for the AI\n",
        "\n",
        "Our goal is to construct and train an artificial neural network on thousands of images of handwritten digits so that it may successfully identify others when presented. The data that will be incorporated is the MNIST database which contains 60,000 images for training and 10,000 test images. We will use the Keras Python API with TensorFlow as the backend."
      ]
    },
    {
      "cell_type": "markdown",
      "metadata": {
        "id": "J7Y1XGaKTWgW"
      },
      "source": [
        "<img src=\"https://github.com/AviatorMoser/keras-mnist-tutorial/blob/master/mnist.png?raw=1\" >"
      ]
    },
    {
      "cell_type": "markdown",
      "metadata": {
        "id": "vxh3jPTuTWgW"
      },
      "source": [
        "## Prerequisite Python Modules\n",
        "\n",
        "First, some software needs to be loaded into the Python environment."
      ]
    },
    {
      "cell_type": "code",
      "execution_count": 2,
      "metadata": {
        "id": "_KI7yL6qTWgX"
      },
      "outputs": [],
      "source": [
        "import numpy as np                   # advanced math library\n",
        "import matplotlib.pyplot as plt      # MATLAB like plotting routines\n",
        "import random                        # for generating random numbers\n",
        "\n",
        "from keras.datasets import mnist     # MNIST dataset is included in Keras\n",
        "from keras.models import Sequential  # Model type to be used\n",
        "\n",
        "from keras.layers.core import Dense, Dropout, Activation # Types of layers to be used in our model\n",
        "from keras.utils import np_utils                         # NumPy related tools"
      ]
    },
    {
      "cell_type": "markdown",
      "metadata": {
        "id": "PZNglQ0zTWgX"
      },
      "source": [
        "## Loading Training Data\n",
        "\n",
        "The MNIST dataset is conveniently bundled within Keras, and we can easily analyze some of its features in Python."
      ]
    },
    {
      "cell_type": "code",
      "execution_count": 3,
      "metadata": {
        "colab": {
          "base_uri": "https://localhost:8080/"
        },
        "id": "2be416UMTWgY",
        "outputId": "c252cd0f-f60c-4533-9ca9-0272c9a8b029"
      },
      "outputs": [
        {
          "output_type": "stream",
          "name": "stdout",
          "text": [
            "Downloading data from https://storage.googleapis.com/tensorflow/tf-keras-datasets/mnist.npz\n",
            "11490434/11490434 [==============================] - 0s 0us/step\n",
            "X_train shape (60000, 28, 28)\n",
            "y_train shape (60000,)\n",
            "X_test shape (10000, 28, 28)\n",
            "y_test shape (10000,)\n"
          ]
        }
      ],
      "source": [
        "# The MNIST data is split between 60,000 28 x 28 pixel training images and 10,000 28 x 28 pixel images\n",
        "(X_train, y_train), (X_test, y_test) = mnist.load_data()\n",
        "\n",
        "print(\"X_train shape\", X_train.shape)\n",
        "print(\"y_train shape\", y_train.shape)\n",
        "print(\"X_test shape\", X_test.shape)\n",
        "print(\"y_test shape\", y_test.shape)"
      ]
    },
    {
      "cell_type": "markdown",
      "metadata": {
        "id": "pnjkVWEpTWgY"
      },
      "source": [
        "Using matplotlib, we can plot some sample images from the training set directly into this Jupyter Notebook."
      ]
    },
    {
      "cell_type": "code",
      "execution_count": 4,
      "metadata": {
        "colab": {
          "base_uri": "https://localhost:8080/",
          "height": 657
        },
        "id": "Tvme1rw9TWgZ",
        "outputId": "53b7c67a-171c-4f4d-f557-fe6f80541e17"
      },
      "outputs": [
        {
          "output_type": "display_data",
          "data": {
            "text/plain": [
              "<Figure size 648x648 with 9 Axes>"
            ],
            "image/png": "[encoded data removed]"
          },
          "metadata": {
            "needs_background": "light"
          }
        }
      ],
      "source": [
        "plt.rcParams['figure.figsize'] = (9,9) # Make the figures a bit bigger\n",
        "\n",
        "for i in range(9):\n",
        "    plt.subplot(3,3,i+1)\n",
        "    num = random.randint(0, len(X_train))\n",
        "    plt.imshow(X_train[num], cmap='gray', interpolation='none')\n",
        "    plt.title(\"Class {}\".format(y_train[num]))\n",
        "    \n",
        "plt.tight_layout()"
      ]
    },
    {
      "cell_type": "markdown",
      "metadata": {
        "id": "5zYm3kg7TWgZ"
      },
      "source": [
        "Let's examine a single digit a little closer, and print out the array representing the last digit."
      ]
    },
    {
      "cell_type": "code",
      "execution_count": 5,
      "metadata": {
        "colab": {
          "base_uri": "https://localhost:8080/"
        },
        "id": "4pExoCt5TWgZ",
        "outputId": "7b6d27ea-6891-4881-c348-ac3dee6a13f9"
      },
      "outputs": [
        {
          "output_type": "stream",
          "name": "stdout",
          "text": [
            "0  0  0  0  0  0  0    0    0    0    0    0    0    0    0    0    0    0    0    0    0    0    0  0  0  0  0  0  \n",
            "0  0  0  0  0  0  0    0    0    0    0    0    0    0    0    0    0    0    0    0    0    0    0  0  0  0  0  0  \n",
            "0  0  0  0  0  0  0    0    0    0    0    0    0    0    0    0    0    0    0    0    0    0    0  0  0  0  0  0  \n",
            "0  0  0  0  0  0  0    0    0    0    0    0    0    0    0    0    0    0    0    0    0    0    0  0  0  0  0  0  \n",
            "0  0  0  0  0  0  0    0    0    0    0   72  174  253  153    0    0    0    0    0    0    0    0  0  0  0  0  0  \n",
            "0  0  0  0  0  0  0    0    0    0   72  236  251  251  251  120    0    0    0    0    0    0    0  0  0  0  0  0  \n",
            "0  0  0  0  0  0  0    0    0    0  174  251  251  251  251  206   32    0    0    0    0    0    0  0  0  0  0  0  \n",
            "0  0  0  0  0  0  0    0    0  139  253  251  251  251  251  253  229  221   83   24    0    0    0  0  0  0  0  0  \n",
            "0  0  0  0  0  0  0    0   40  217  253  251  251  251  251  253  251  251  251  193    0    0    0  0  0  0  0  0  \n",
            "0  0  0  0  0  0  0    0   64  253  255  241  158   19    0    0  131  253  253  253    0    0    0  0  0  0  0  0  \n",
            "0  0  0  0  0  0  0    0   84  251  253  101    0    0    0    0    8   62  229  251  131    8    0  0  0  0  0  0  \n",
            "0  0  0  0  0  0  0    0  221  251  253   62    0    0    0    0    0    0  221  251  253   62    0  0  0  0  0  0  \n",
            "0  0  0  0  0  0  0    0  221  251  169    8    0    0    0    0    0    0  221  251  253  201    0  0  0  0  0  0  \n",
            "0  0  0  0  0  0  0   80  240  251  158    0    0    0    0    0    0    0  123  251  253  220    0  0  0  0  0  0  \n",
            "0  0  0  0  0  0  0  128  253  253  159    0    0    0    0    0    0    0    0  159  255  253  126  0  0  0  0  0  \n",
            "0  0  0  0  0  0  0  127  251  251  158    0    0    0    0    0    0    0    0   39  233  251  126  0  0  0  0  0  \n",
            "0  0  0  0  0  0  0  127  251  251  158    0    0    0    0    0    0    0    0    0   96  251  126  0  0  0  0  0  \n",
            "0  0  0  0  0  0  0  127  251  251  158    0    0    0    0    0    0    0    0    0   96  251  126  0  0  0  0  0  \n",
            "0  0  0  0  0  0  0  127  251  251  158    0    0    0    0    0    0    0    0    0   96  231   47  0  0  0  0  0  \n",
            "0  0  0  0  0  0  0    0  223  253  159    0    0    0    0    0    0    0   24   96  255  221    0  0  0  0  0  0  \n",
            "0  0  0  0  0  0  0    0  201  251  230   71   16    0    0    0   24   32  186  251  241   93    0  0  0  0  0  0  \n",
            "0  0  0  0  0  0  0    0   64  251  253  251  188  127  127  128  221  251  251  251   79    0    0  0  0  0  0  0  \n",
            "0  0  0  0  0  0  0    0    8  129  213  251  251  251  251  253  251  219  188   89    0    0    0  0  0  0  0  0  \n",
            "0  0  0  0  0  0  0    0    0    0   36  114  251  251  251  253  132   47    0    0    0    0    0  0  0  0  0  0  \n",
            "0  0  0  0  0  0  0    0    0    0    0    0    0    0    0    0    0    0    0    0    0    0    0  0  0  0  0  0  \n",
            "0  0  0  0  0  0  0    0    0    0    0    0    0    0    0    0    0    0    0    0    0    0    0  0  0  0  0  0  \n",
            "0  0  0  0  0  0  0    0    0    0    0    0    0    0    0    0    0    0    0    0    0    0    0  0  0  0  0  0  \n",
            "0  0  0  0  0  0  0    0    0    0    0    0    0    0    0    0    0    0    0    0    0    0    0  0  0  0  0  0  \n"
          ]
        }
      ],
      "source": [
        "# just a little function for pretty printing a matrix\n",
        "def matprint(mat, fmt=\"g\"):\n",
        "    col_maxes = [max([len((\"{:\"+fmt+\"}\").format(x)) for x in col]) for col in mat.T]\n",
        "    for x in mat:\n",
        "        for i, y in enumerate(x):\n",
        "            print((\"{:\"+str(col_maxes[i])+fmt+\"}\").format(y), end=\"  \")\n",
        "        print(\"\")\n",
        "\n",
        "# now print!        \n",
        "matprint(X_train[num])"
      ]
    },
    {
      "cell_type": "markdown",
      "metadata": {
        "id": "3MMMU3qVTWga"
      },
      "source": [
        "Each pixel is an 8-bit integer from 0-255. 0 is full black, while 255 is full white. This what we call a single-channel pixel. It's called monochrome.\n",
        "\n",
        "*Fun-fact! Your computer screen has three channels for each pixel: red, green, blue. Each of these channels also likely takes an 8-bit integer. 3 channels -- 24 bits total -- 16,777,216 possible colors!*"
      ]
    },
    {
      "cell_type": "markdown",
      "metadata": {
        "id": "xvpFZh9ATWga"
      },
      "source": [
        "## Formatting the input data layer\n",
        "\n",
        "Instead of a 28 x 28 matrix, we build our network to accept a 784-length vector.\n",
        "\n",
        "Each image needs to be then reshaped (or flattened) into a vector. We'll also normalize the inputs to be in the range [0-1] rather than [0-255]. Normalizing inputs is generally recommended, so that any additional dimensions (for other network architectures) are of the same scale."
      ]
    },
    {
      "cell_type": "markdown",
      "metadata": {
        "id": "hQGIHodETWga"
      },
      "source": [
        "<img src='https://github.com/AviatorMoser/keras-mnist-tutorial/blob/master/flatten.png?raw=1' >"
      ]
    },
    {
      "cell_type": "code",
      "execution_count": 6,
      "metadata": {
        "colab": {
          "base_uri": "https://localhost:8080/"
        },
        "id": "7wCk7FY6TWga",
        "outputId": "e5cb9fd7-7c9c-44da-9580-acdc27c0349f"
      },
      "outputs": [
        {
          "output_type": "stream",
          "name": "stdout",
          "text": [
            "Training matrix shape (60000, 784)\n",
            "Testing matrix shape (10000, 784)\n"
          ]
        }
      ],
      "source": [
        "X_train = X_train.reshape(60000, 784) # reshape 60,000 28 x 28 matrices into 60,000 784-length vectors.\n",
        "X_test = X_test.reshape(10000, 784)   # reshape 10,000 28 x 28 matrices into 10,000 784-length vectors.\n",
        "\n",
        "X_train = X_train.astype('float32')   # change integers to 32-bit floating point numbers\n",
        "X_test = X_test.astype('float32')\n",
        "\n",
        "X_train /= 255                        # normalize each value for each pixel for the entire vector for each input\n",
        "X_test /= 255\n",
        "\n",
        "print(\"Training matrix shape\", X_train.shape)\n",
        "print(\"Testing matrix shape\", X_test.shape)"
      ]
    },
    {
      "cell_type": "markdown",
      "metadata": {
        "id": "RDYAvx1aTWga"
      },
      "source": [
        "We then modify our classes (unique digits) to be in the one-hot format, i.e.\n",
        "\n",
        "```\n",
        "0 -> [1, 0, 0, 0, 0, 0, 0, 0, 0]\n",
        "1 -> [0, 1, 0, 0, 0, 0, 0, 0, 0]\n",
        "2 -> [0, 0, 1, 0, 0, 0, 0, 0, 0]\n",
        "etc.\n",
        "```\n",
        "\n",
        "If the final output of our network is very close to one of these classes, then it is most likely that class. For example, if the final output is:\n",
        "\n",
        "```\n",
        "[0, 0.94, 0, 0, 0, 0, 0.06, 0, 0]\n",
        "```\n",
        "then it is most probable that the image is that of the digit `1`."
      ]
    },
    {
      "cell_type": "code",
      "execution_count": 7,
      "metadata": {
        "collapsed": true,
        "id": "DukiaZoSTWgb"
      },
      "outputs": [],
      "source": [
        "nb_classes = 10 # number of unique digits\n",
        "\n",
        "Y_train = np_utils.to_categorical(y_train, nb_classes)\n",
        "Y_test = np_utils.to_categorical(y_test, nb_classes)"
      ]
    },
    {
      "cell_type": "markdown",
      "metadata": {
        "id": "OB9Q_Dn9TWgb"
      },
      "source": [
        "# Building a 3-layer fully connected network (FCN)\n",
        "\n",
        "<img src=\"https://github.com/AviatorMoser/keras-mnist-tutorial/blob/master/figure.png?raw=1\" />"
      ]
    },
    {
      "cell_type": "code",
      "execution_count": 8,
      "metadata": {
        "collapsed": true,
        "id": "lRENCkiaTWgb"
      },
      "outputs": [],
      "source": [
        "# The Sequential model is a linear stack of layers and is very common.\n",
        "\n",
        "model = Sequential()"
      ]
    },
    {
      "cell_type": "markdown",
      "metadata": {
        "id": "oFoHzBISTWgb"
      },
      "source": [
        "## The first hidden layer"
      ]
    },
    {
      "cell_type": "code",
      "execution_count": 9,
      "metadata": {
        "collapsed": true,
        "id": "-tEEukwxTWgb"
      },
      "outputs": [],
      "source": [
        "# The first hidden layer is a set of 512 nodes (artificial neurons).\n",
        "# Each node will receive an element from each input vector and apply some weight and bias to it.\n",
        "\n",
        "model.add(Dense(512, input_shape=(784,))) #(784,) is not a typo -- that represents a 784 length vector!"
      ]
    },
    {
      "cell_type": "code",
      "execution_count": 10,
      "metadata": {
        "collapsed": true,
        "id": "Yw8RANJRTWgc"
      },
      "outputs": [],
      "source": [
        "# An \"activation\" is a non-linear function applied to the output of the layer above.\n",
        "# It checks the new value of the node, and decides whether that artifical neuron has fired.\n",
        "# The Rectified Linear Unit (ReLU) converts all negative inputs to nodes in the next layer to be zero.\n",
        "# Those inputs are then not considered to be fired.\n",
        "# Positive values of a node are unchanged.\n",
        "\n",
        "model.add(Activation('relu'))"
      ]
    },
    {
      "cell_type": "markdown",
      "metadata": {
        "id": "VFIIRhRPTWgc"
      },
      "source": [
        "$$f(x) = max (0,x)$$\n",
        "<img src = 'relu.jpg' >"
      ]
    },
    {
      "cell_type": "code",
      "execution_count": 11,
      "metadata": {
        "collapsed": true,
        "id": "DHUTJAS8TWgc"
      },
      "outputs": [],
      "source": [
        "# Dropout zeroes a selection of random outputs (i.e., disables their activation)\n",
        "# Dropout helps protect the model from memorizing or \"overfitting\" the training data.\n",
        "model.add(Dropout(0.2))"
      ]
    },
    {
      "cell_type": "markdown",
      "metadata": {
        "id": "ZWRtrD5rTWgc"
      },
      "source": [
        "## Adding the second hidden layer"
      ]
    },
    {
      "cell_type": "code",
      "execution_count": 12,
      "metadata": {
        "collapsed": true,
        "id": "2fjnVYWHTWgc"
      },
      "outputs": [],
      "source": [
        "# The second hidden layer appears identical to our first layer.\n",
        "# However, instead of each of the 512-node receiving 784-inputs from the input image data,\n",
        "# they receive 512 inputs from the output of the first 512-node layer.\n",
        "\n",
        "model.add(Dense(512))\n",
        "model.add(Activation('relu'))\n",
        "model.add(Dropout(0.2))"
      ]
    },
    {
      "cell_type": "markdown",
      "metadata": {
        "id": "cD4QzSCFTWgc"
      },
      "source": [
        "## The Final Output Layer"
      ]
    },
    {
      "cell_type": "code",
      "execution_count": 13,
      "metadata": {
        "collapsed": true,
        "id": "oTk3VS9MTWgd"
      },
      "outputs": [],
      "source": [
        "# The final layer of 10 neurons in fully-connected to the previous 512-node layer.\n",
        "# The final layer of a FCN should be equal to the number of desired classes (10 in this case).\n",
        "model.add(Dense(10))"
      ]
    },
    {
      "cell_type": "code",
      "execution_count": 14,
      "metadata": {
        "collapsed": true,
        "id": "ZBZcxqy3TWgd"
      },
      "outputs": [],
      "source": [
        "# The \"softmax\" activation represents a probability distribution over K different possible outcomes.\n",
        "# Its values are all non-negative and sum to 1.\n",
        "\n",
        "model.add(Activation('softmax'))"
      ]
    },
    {
      "cell_type": "code",
      "execution_count": 15,
      "metadata": {
        "colab": {
          "base_uri": "https://localhost:8080/"
        },
        "id": "BmoAulw2TWgd",
        "outputId": "e1d45e27-5b71-4a08-9ecd-3b38ef23991d"
      },
      "outputs": [
        {
          "output_type": "stream",
          "name": "stdout",
          "text": [
            "Model: \"sequential\"\n",
            "_________________________________________________________________\n",
            " Layer (type)                Output Shape              Param #   \n",
            "=================================================================\n",
            " dense (Dense)               (None, 512)               401920    \n",
            "                                                                 \n",
            " activation (Activation)     (None, 512)               0         \n",
            "                                                                 \n",
            " dropout (Dropout)           (None, 512)               0         \n",
            "                                                                 \n",
            " dense_1 (Dense)             (None, 512)               262656    \n",
            "                                                                 \n",
            " activation_1 (Activation)   (None, 512)               0         \n",
            "                                                                 \n",
            " dropout_1 (Dropout)         (None, 512)               0         \n",
            "                                                                 \n",
            " dense_2 (Dense)             (None, 10)                5130      \n",
            "                                                                 \n",
            " activation_2 (Activation)   (None, 10)                0         \n",
            "                                                                 \n",
            "=================================================================\n",
            "Total params: 669,706\n",
            "Trainable params: 669,706\n",
            "Non-trainable params: 0\n",
            "_________________________________________________________________\n"
          ]
        }
      ],
      "source": [
        "# Summarize the built model\n",
        "\n",
        "model.summary()"
      ]
    },
    {
      "cell_type": "markdown",
      "metadata": {
        "id": "CXb2nHSwTWgd"
      },
      "source": [
        "## Compiling the model\n",
        "\n",
        "Keras is built on top of Theano and TensorFlow. Both packages allow you to define a *computation graph* in Python, which then compiles and runs efficiently on the CPU or GPU without the overhead of the Python interpreter.\n",
        "\n",
        "When compiing a model, Keras asks you to specify your **loss function** and your **optimizer**. The loss function we'll use here is called *categorical cross-entropy*, and is a loss function well-suited to comparing two probability distributions.\n",
        "\n",
        "Our predictions are probability distributions across the ten different digits (e.g. \"we're 80% confident this image is a 3, 10% sure it's an 8, 5% it's a 2, etc.\"), and the target is a probability distribution with 100% for the correct category, and 0 for everything else. The cross-entropy is a measure of how different your predicted distribution is from the target distribution. [More detail at Wikipedia](https://en.wikipedia.org/wiki/Cross_entropy)\n",
        "\n",
        "The optimizer helps determine how quickly the model learns through **gradient descent**. The rate at which descends a gradient is called the **learning rate**."
      ]
    },
    {
      "cell_type": "markdown",
      "metadata": {
        "id": "rlGDo3QETWgd"
      },
      "source": [
        "<img src = \"gradient_descent.png\" >"
      ]
    },
    {
      "cell_type": "markdown",
      "metadata": {
        "id": "8esfmY_ZTWgd"
      },
      "source": [
        "<img src = \"learning_rate.png\" >"
      ]
    },
    {
      "cell_type": "markdown",
      "metadata": {
        "id": "1VTuk30JTWge"
      },
      "source": [
        "So are smaller learning rates better? Not quite! It's important for an optimizer not to get stuck in local minima while neglecting the global minimum of the loss function. Sometimes that means trying a larger learning rate to jump out of a local minimum."
      ]
    },
    {
      "cell_type": "markdown",
      "metadata": {
        "id": "zwU299jiTWge"
      },
      "source": [
        "<img src = 'complicated_loss_function.png' >"
      ]
    },
    {
      "cell_type": "code",
      "execution_count": 16,
      "metadata": {
        "collapsed": true,
        "id": "0oXntpFYTWge"
      },
      "outputs": [],
      "source": [
        "# Let's use the Adam optimizer for learning\n",
        "model.compile(loss='categorical_crossentropy', optimizer='adam', metrics=['accuracy'])"
      ]
    },
    {
      "cell_type": "markdown",
      "metadata": {
        "id": "MrInad6fTWge"
      },
      "source": [
        "## Train the model!\n",
        "This is the fun part! "
      ]
    },
    {
      "cell_type": "markdown",
      "metadata": {
        "id": "3GfnHP1dTWge"
      },
      "source": [
        "The batch size determines over how much data per step is used to compute the loss function, gradients, and back propagation. Large batch sizes allow the network to complete it's training faster; however, there are other factors beyond training speed to consider.\n",
        "\n",
        "Too large of a batch size smoothes the local minima of the loss function, causing the optimizer to settle in one because it thinks it found the global minimum.\n",
        "\n",
        "Too small of a batch size creates a very noisy loss function, and the optimizer may never find the global minimum.\n",
        "\n",
        "So a good batch size may take some trial and error to find!"
      ]
    },
    {
      "cell_type": "code",
      "execution_count": 17,
      "metadata": {
        "colab": {
          "base_uri": "https://localhost:8080/"
        },
        "id": "OW1PVJHLTWge",
        "outputId": "937693c2-7af7-4082-8ec0-6fb5a4881f53"
      },
      "outputs": [
        {
          "output_type": "stream",
          "name": "stdout",
          "text": [
            "Epoch 1/5\n",
            "469/469 [==============================] - 8s 15ms/step - loss: 0.2504 - accuracy: 0.9252\n",
            "Epoch 2/5\n",
            "469/469 [==============================] - 7s 15ms/step - loss: 0.1005 - accuracy: 0.9685\n",
            "Epoch 3/5\n",
            "469/469 [==============================] - 8s 18ms/step - loss: 0.0716 - accuracy: 0.9773\n",
            "Epoch 4/5\n",
            "469/469 [==============================] - 7s 15ms/step - loss: 0.0550 - accuracy: 0.9823\n",
            "Epoch 5/5\n",
            "469/469 [==============================] - 7s 16ms/step - loss: 0.0457 - accuracy: 0.9848\n"
          ]
        },
        {
          "output_type": "execute_result",
          "data": {
            "text/plain": [
              "<keras.callbacks.History at 0x7f10df9aa850>"
            ]
          },
          "metadata": {},
          "execution_count": 17
        }
      ],
      "source": [
        "model.fit(X_train, Y_train,\n",
        "          batch_size=128, epochs=5,\n",
        "          verbose=1)"
      ]
    },
    {
      "cell_type": "markdown",
      "metadata": {
        "id": "zDS0J7fcTWgf"
      },
      "source": [
        "The two numbers, in order, represent the value of the loss function of the network on the training set, and the overall accuracy of the network on the training data. But how does it do on data it did not train on?"
      ]
    },
    {
      "cell_type": "markdown",
      "metadata": {
        "id": "Ziwj-K88TWgf"
      },
      "source": [
        "## Evaluate Model's Accuracy on Test Data"
      ]
    },
    {
      "cell_type": "code",
      "execution_count": 18,
      "metadata": {
        "colab": {
          "base_uri": "https://localhost:8080/"
        },
        "id": "qJfZGMxLTWgf",
        "outputId": "cc31bc35-4163-44e0-b03e-0d9eb09c8702"
      },
      "outputs": [
        {
          "output_type": "stream",
          "name": "stdout",
          "text": [
            "313/313 [==============================] - 1s 3ms/step - loss: 0.0654 - accuracy: 0.9803\n",
            "Test score: 0.06536266207695007\n",
            "Test accuracy: 0.9803000092506409\n"
          ]
        }
      ],
      "source": [
        "score = model.evaluate(X_test, Y_test)\n",
        "print('Test score:', score[0])\n",
        "print('Test accuracy:', score[1])"
      ]
    },
    {
      "cell_type": "markdown",
      "metadata": {
        "id": "6Zw4UiXXTWgf"
      },
      "source": [
        "### Inspecting the output\n",
        "\n",
        "It's always a good idea to inspect the output and make sure everything looks sane. Here we'll look at some examples it gets right, and some examples it gets wrong."
      ]
    },
    {
      "cell_type": "code",
      "execution_count": 21,
      "metadata": {
        "collapsed": true,
        "colab": {
          "base_uri": "https://localhost:8080/"
        },
        "id": "2lFQKocbTWgf",
        "outputId": "19ce9ea1-41f2-43a0-bf05-007249605623"
      },
      "outputs": [
        {
          "output_type": "stream",
          "name": "stdout",
          "text": [
            "313/313 [==============================] - 1s 3ms/step\n"
          ]
        }
      ],
      "source": [
        "# The predict_classes function outputs the highest probability class\n",
        "# according to the trained classifier for each input example.\n",
        "predicted_classes = np.argmax(model.predict(X_test), axis=-1)\n",
        "\n",
        "# Check which items we got right / wrong\n",
        "correct_indices = np.nonzero(predicted_classes == y_test)[0]\n",
        "\n",
        "incorrect_indices = np.nonzero(predicted_classes != y_test)[0]"
      ]
    },
    {
      "cell_type": "code",
      "execution_count": 22,
      "metadata": {
        "colab": {
          "base_uri": "https://localhost:8080/",
          "height": 1000
        },
        "id": "aoWaz8h6TWgf",
        "outputId": "0aa83da3-62e2-4d0f-ffd0-e79a48be8b05"
      },
      "outputs": [
        {
          "output_type": "display_data",
          "data": {
            "text/plain": [
              "<Figure size 648x648 with 9 Axes>"
            ],
            "image/png": "[encoded data removed]"
          },
          "metadata": {
            "needs_background": "light"
          }
        },
        {
          "output_type": "display_data",
          "data": {
            "text/plain": [
              "<Figure size 648x648 with 9 Axes>"
            ],
            "image/png": "[encoded data removed]"
          },
          "metadata": {
            "needs_background": "light"
          }
        }
      ],
      "source": [
        "plt.figure()\n",
        "for i, correct in enumerate(correct_indices[:9]):\n",
        "    plt.subplot(3,3,i+1)\n",
        "    plt.imshow(X_test[correct].reshape(28,28), cmap='gray', interpolation='none')\n",
        "    plt.title(\"Predicted {}, Class {}\".format(predicted_classes[correct], y_test[correct]))\n",
        "    \n",
        "plt.tight_layout()\n"
      ]
    },
    {
      "cell_type": "code",
      "source": [
        "    \n",
        "plt.figure()\n",
        "for i, incorrect in enumerate(incorrect_indices[:9]):\n",
        "    plt.subplot(3,3,i+1)\n",
        "    plt.imshow(X_test[incorrect].reshape(28,28), cmap='gray', interpolation='none')\n",
        "    plt.title(\"Predicted {}, Class {}\".format(predicted_classes[incorrect], y_test[incorrect]))\n",
        "    \n",
        "plt.tight_layout()"
      ],
      "metadata": {
        "colab": {
          "base_uri": "https://localhost:8080/",
          "height": 657
        },
        "id": "nyPg1BeNVCLv",
        "outputId": "f4ceee65-4bbb-482f-aa01-12d8a41e5ef2"
      },
      "execution_count": 23,
      "outputs": [
        {
          "output_type": "display_data",
          "data": {
            "text/plain": [
              "<Figure size 648x648 with 9 Axes>"
            ],
            "image/png": "[encoded data removed]"
          },
          "metadata": {
            "needs_background": "light"
          }
        }
      ]
    },
    {
      "cell_type": "markdown",
      "metadata": {
        "id": "KUVP_VhUTWgg"
      },
      "source": [
        "# Trying experimenting with the batch size!\n",
        "\n",
        "#### How does increasing the batch size to 10,000 affect the training time and test accuracy?\n",
        "\n",
        "#### How about a batch size of 32?"
      ]
    },
    {
      "cell_type": "markdown",
      "metadata": {
        "id": "8764Nv8CTWgg"
      },
      "source": [
        "# Introducing Convolution! What is it?"
      ]
    },
    {
      "cell_type": "markdown",
      "metadata": {
        "id": "mrow6DqRTWgg"
      },
      "source": [
        "Before, we built a network that accepts the normalized pixel values of each value and operates soley on those values. What if we could instead feed different features (e.g. **curvature, edges**) of each image into a network, and have the network learn which features are important for classifying an image?\n",
        "\n",
        "This possible through convolution! Convolution applies **kernels** (filters) that traverse through each image and generate **feature maps**."
      ]
    },
    {
      "cell_type": "markdown",
      "metadata": {
        "id": "ZI1I606JTWgg"
      },
      "source": [
        "<img src = 'convolution.gif' >"
      ]
    },
    {
      "cell_type": "markdown",
      "metadata": {
        "id": "c2VPGzzLTWgg"
      },
      "source": [
        "In the above example, the image is a 5 x 5 matrix and the kernel going over it is a 3 x 3 matrix. A dot product operation takes place between the image and the kernel and the convolved feature is generated. Each kernel in a CNN learns a different characteristic of an image.\n",
        "\n",
        "Kernels are often used in photoediting software to apply blurring, edge detection, sharpening, etc."
      ]
    },
    {
      "cell_type": "markdown",
      "metadata": {
        "id": "g4wiPZwlTWgg"
      },
      "source": [
        "<img src = 'kernels.png' >"
      ]
    },
    {
      "cell_type": "markdown",
      "metadata": {
        "id": "RIg9jv_kTWgg"
      },
      "source": [
        "Kernels in deep learning networks are used in similar ways, i.e. highlighting some feature. Combined with a system called **max pooling**, the non-highlighted elements are discarded from each feature map, leaving only the features of interest, reducing the number of learned parameters, and decreasing the computational cost (e.g. system memory)."
      ]
    },
    {
      "cell_type": "markdown",
      "metadata": {
        "id": "skvifNK1TWgg"
      },
      "source": [
        "<img src = 'max_pooling.png' >"
      ]
    },
    {
      "cell_type": "markdown",
      "metadata": {
        "id": "2RFw3lSDTWgg"
      },
      "source": [
        "We can also take convolutions of convolutions -- we can stack as many convolutions as we want, as long as there are enough pixels to fit a kernel.\n",
        "\n",
        "*Warning: What you may find down there in those deep convolutions may not appear recognizable to you.*"
      ]
    },
    {
      "cell_type": "markdown",
      "metadata": {
        "id": "DgtRbPKjTWgh"
      },
      "source": [
        "<img src = 'go_deeper.jpg' >"
      ]
    },
    {
      "cell_type": "markdown",
      "metadata": {
        "id": "VrWQ7u-7TWgh"
      },
      "source": [
        "## Building a \"Deep\" Convolutional Neural Network"
      ]
    },
    {
      "cell_type": "code",
      "execution_count": null,
      "metadata": {
        "collapsed": true,
        "id": "kZ4a4rxRTWgh"
      },
      "outputs": [],
      "source": [
        "# import some additional tools\n",
        "\n",
        "from keras.preprocessing.image import ImageDataGenerator\n",
        "from keras.layers import Conv2D, MaxPooling2D, ZeroPadding2D, GlobalAveragePooling2D, Flatten\n",
        "from keras.layers.normalization import BatchNormalization"
      ]
    },
    {
      "cell_type": "code",
      "execution_count": null,
      "metadata": {
        "collapsed": true,
        "id": "CB0db8jtTWgh"
      },
      "outputs": [],
      "source": [
        "# Reload the MNIST data\n",
        "(X_train, y_train), (X_test, y_test) = mnist.load_data()"
      ]
    },
    {
      "cell_type": "code",
      "execution_count": null,
      "metadata": {
        "id": "QQ8Bxh1cTWgh"
      },
      "outputs": [],
      "source": [
        "# Again, do some formatting\n",
        "# Except we do not flatten each image into a 784-length vector because we want to perform convolutions first\n",
        "\n",
        "X_train = X_train.reshape(60000, 28, 28, 1) #add an additional dimension to represent the single-channel\n",
        "X_test = X_test.reshape(10000, 28, 28, 1)\n",
        "\n",
        "X_train = X_train.astype('float32')         # change integers to 32-bit floating point numbers\n",
        "X_test = X_test.astype('float32')\n",
        "\n",
        "X_train /= 255                              # normalize each value for each pixel for the entire vector for each input\n",
        "X_test /= 255\n",
        "\n",
        "print(\"Training matrix shape\", X_train.shape)\n",
        "print(\"Testing matrix shape\", X_test.shape)"
      ]
    },
    {
      "cell_type": "code",
      "execution_count": null,
      "metadata": {
        "collapsed": true,
        "id": "_fry3zn6TWgh"
      },
      "outputs": [],
      "source": [
        "# one-hot format classes\n",
        "\n",
        "nb_classes = 10 # number of unique digits\n",
        "\n",
        "Y_train = np_utils.to_categorical(y_train, nb_classes)\n",
        "Y_test = np_utils.to_categorical(y_test, nb_classes)"
      ]
    },
    {
      "cell_type": "code",
      "execution_count": null,
      "metadata": {
        "collapsed": true,
        "id": "RCJH0W27TWgi"
      },
      "outputs": [],
      "source": [
        "model = Sequential()                                 # Linear stacking of layers\n",
        "\n",
        "# Convolution Layer 1\n",
        "model.add(Conv2D(32, (3, 3), input_shape=(28,28,1))) # 32 different 3x3 kernels -- so 32 feature maps\n",
        "model.add(BatchNormalization(axis=-1))               # normalize each feature map before activation\n",
        "convLayer01 = Activation('relu')                     # activation\n",
        "model.add(convLayer01)\n",
        "\n",
        "# Convolution Layer 2\n",
        "model.add(Conv2D(32, (3, 3)))                        # 32 different 3x3 kernels -- so 32 feature maps\n",
        "model.add(BatchNormalization(axis=-1))               # normalize each feature map before activation\n",
        "model.add(Activation('relu'))                        # activation\n",
        "convLayer02 = MaxPooling2D(pool_size=(2,2))          # Pool the max values over a 2x2 kernel\n",
        "model.add(convLayer02)\n",
        "\n",
        "# Convolution Layer 3\n",
        "model.add(Conv2D(64,(3, 3)))                         # 64 different 3x3 kernels -- so 64 feature maps\n",
        "model.add(BatchNormalization(axis=-1))               # normalize each feature map before activation\n",
        "convLayer03 = Activation('relu')                     # activation\n",
        "model.add(convLayer03)\n",
        "\n",
        "# Convolution Layer 4\n",
        "model.add(Conv2D(64, (3, 3)))                        # 64 different 3x3 kernels -- so 64 feature maps\n",
        "model.add(BatchNormalization(axis=-1))               # normalize each feature map before activation\n",
        "model.add(Activation('relu'))                        # activation\n",
        "convLayer04 = MaxPooling2D(pool_size=(2,2))          # Pool the max values over a 2x2 kernel\n",
        "model.add(convLayer04)\n",
        "model.add(Flatten())                                 # Flatten final 4x4x64 output matrix into a 1024-length vector\n",
        "\n",
        "# Fully Connected Layer 5\n",
        "model.add(Dense(512))                                # 512 FCN nodes\n",
        "model.add(BatchNormalization())                      # normalization\n",
        "model.add(Activation('relu'))                        # activation\n",
        "\n",
        "# Fully Connected Layer 6                       \n",
        "model.add(Dropout(0.2))                              # 20% dropout of randomly selected nodes\n",
        "model.add(Dense(10))                                 # final 10 FCN nodes\n",
        "model.add(Activation('softmax'))                     # softmax activation"
      ]
    },
    {
      "cell_type": "code",
      "execution_count": null,
      "metadata": {
        "id": "roPZV86sTWgi"
      },
      "outputs": [],
      "source": [
        "model.summary()"
      ]
    },
    {
      "cell_type": "code",
      "execution_count": null,
      "metadata": {
        "collapsed": true,
        "id": "XAvTK5HuTWgi"
      },
      "outputs": [],
      "source": [
        "# we'll use the same optimizer\n",
        "\n",
        "model.compile(loss='categorical_crossentropy', optimizer='adam', metrics=['accuracy'])"
      ]
    },
    {
      "cell_type": "code",
      "execution_count": null,
      "metadata": {
        "collapsed": true,
        "id": "dLRP6l7tTWgi"
      },
      "outputs": [],
      "source": [
        "# data augmentation prevents overfitting by slightly changing the data randomly\n",
        "# Keras has a great built-in feature to do automatic augmentation\n",
        "\n",
        "gen = ImageDataGenerator(rotation_range=8, width_shift_range=0.08, shear_range=0.3,\n",
        "                         height_shift_range=0.08, zoom_range=0.08)\n",
        "\n",
        "test_gen = ImageDataGenerator()"
      ]
    },
    {
      "cell_type": "code",
      "execution_count": null,
      "metadata": {
        "collapsed": true,
        "id": "pezZ3S5aTWgi"
      },
      "outputs": [],
      "source": [
        "# We can then feed our augmented data in batches\n",
        "# Besides loss function considerations as before, this method actually results in significant memory savings\n",
        "# because we are actually LOADING the data into the network in batches before processing each batch\n",
        "\n",
        "# Before the data was all loaded into memory, but then processed in batches.\n",
        "\n",
        "train_generator = gen.flow(X_train, Y_train, batch_size=128)\n",
        "test_generator = test_gen.flow(X_test, Y_test, batch_size=128)"
      ]
    },
    {
      "cell_type": "code",
      "execution_count": null,
      "metadata": {
        "id": "LyPnzjFkTWgi"
      },
      "outputs": [],
      "source": [
        "# We can now train our model which is fed data by our batch loader\n",
        "# Steps per epoch should always be total size of the set divided by the batch size\n",
        "\n",
        "# SIGNIFICANT MEMORY SAVINGS (important for larger, deeper networks)\n",
        "\n",
        "model.fit_generator(train_generator, steps_per_epoch=60000//128, epochs=5, verbose=1, \n",
        "                    validation_data=test_generator, validation_steps=10000//128)"
      ]
    },
    {
      "cell_type": "code",
      "execution_count": null,
      "metadata": {
        "id": "KsBpAAPoTWgi"
      },
      "outputs": [],
      "source": [
        "score = model.evaluate(X_test, Y_test)\n",
        "print('Test score:', score[0])\n",
        "print('Test accuracy:', score[1])"
      ]
    },
    {
      "cell_type": "markdown",
      "metadata": {
        "id": "jvVh5UHPTWgj"
      },
      "source": [
        "## Great results! \n",
        "\n",
        "But wouldn't it be nice if we could visualize those convolutions so that we can see what the model is seeing?"
      ]
    },
    {
      "cell_type": "code",
      "execution_count": null,
      "metadata": {
        "collapsed": true,
        "id": "IIQ0NnXGTWgj"
      },
      "outputs": [],
      "source": [
        "from keras import backend as K\n",
        "\n",
        "# choose any image to want by specifying the index\n",
        "img = X_test[3]\n",
        "img = np.expand_dims(img, axis=0) # Keras requires the image to be in 4D, so we add an extra dimension to it.\n",
        "\n",
        "# Not important to understand how this function work -- It just plots a convolution layer\n",
        "\n",
        "def visualize(layer):\n",
        "    inputs = [K.learning_phase()] + model.inputs\n",
        "    \n",
        "    _convout1_f = K.function(inputs, [layer.output])\n",
        "    \n",
        "    def convout1_f(X):\n",
        "        # The [0] is to disable the training phase flag\n",
        "        return _convout1_f([0] + [X])\n",
        "\n",
        "    convolutions = convout1_f(img)\n",
        "    convolutions = np.squeeze(convolutions)\n",
        "\n",
        "    print ('Shape of conv:', convolutions.shape)\n",
        "    \n",
        "    m = convolutions.shape[2]\n",
        "    n = int(np.ceil(np.sqrt(m)))\n",
        "    \n",
        "    # Visualization of each filter of the layer\n",
        "    fig = plt.figure(figsize=(15,12))\n",
        "    for i in range(m):\n",
        "        ax = fig.add_subplot(n,n,i+1)\n",
        "        ax.imshow(convolutions[:,:,i], cmap='gray')\n"
      ]
    },
    {
      "cell_type": "code",
      "execution_count": null,
      "metadata": {
        "id": "RAPCe9zSTWgj"
      },
      "outputs": [],
      "source": [
        "plt.figure()\n",
        "plt.imshow(X_test[3].reshape(28,28), cmap='gray', interpolation='none')"
      ]
    },
    {
      "cell_type": "code",
      "execution_count": null,
      "metadata": {
        "id": "Mcrb0qbXTWgj"
      },
      "outputs": [],
      "source": [
        "visualize(convLayer01) # visualize first set of feature maps"
      ]
    },
    {
      "cell_type": "code",
      "execution_count": null,
      "metadata": {
        "id": "Hif7q6ofTWgj"
      },
      "outputs": [],
      "source": [
        "visualize(convLayer02) # visualize second set of feature maps"
      ]
    },
    {
      "cell_type": "code",
      "execution_count": null,
      "metadata": {
        "id": "41l4eZ18TWgj"
      },
      "outputs": [],
      "source": [
        "visualize(convLayer03)# visualize third set of feature maps"
      ]
    },
    {
      "cell_type": "code",
      "execution_count": null,
      "metadata": {
        "id": "tHgG23MQTWgj"
      },
      "outputs": [],
      "source": [
        "visualize(convLayer04)# visualize fourth set of feature maps"
      ]
    },
    {
      "cell_type": "markdown",
      "metadata": {
        "id": "n7tJB0HfTWgj"
      },
      "source": [
        "#### For a 3D visualization of a very similar network, visit http://scs.ryerson.ca/~aharley/vis/conv/"
      ]
    }
  ],
  "metadata": {
    "kernelspec": {
      "display_name": "Tensorflow (GPU)",
      "language": "python",
      "name": "py3.6-tfgpu"
    },
    "language_info": {
      "codemirror_mode": {
        "name": "ipython",
        "version": 3
      },
      "file_extension": ".py",
      "mimetype": "text/x-python",
      "name": "python",
      "nbconvert_exporter": "python",
      "pygments_lexer": "ipython3",
      "version": "3.6.6"
    },
    "colab": {
      "provenance": [],
      "include_colab_link": true
    }
  },
  "nbformat": 4,
  "nbformat_minor": 0
}